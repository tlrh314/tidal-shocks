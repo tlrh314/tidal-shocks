{
 "cells": [
  {
   "cell_type": "code",
   "execution_count": 1,
   "metadata": {
    "ExecuteTime": {
     "end_time": "2020-03-19T17:56:08.720176Z",
     "start_time": "2020-03-19T17:56:08.330414Z"
    }
   },
   "outputs": [
    {
     "name": "stdout",
     "output_type": "stream",
     "text": [
      "The autoreload extension is already loaded. To reload it, use:\n",
      "  %reload_ext autoreload\n"
     ]
    }
   ],
   "source": [
    "if \"logger\" in globals() and  len(logger.handlers) >= 1:\n",
    "    # To suppress debug output from the logger defined in .ipython/profile_default/ipython_config.py\n",
    "    logger.handlers.pop()\n",
    "\n",
    "%load_ext autoreload\n",
    "%autoreload 2\n",
    "\n",
    "%matplotlib inline\n",
    "logging.getLogger(\"keyring\").setLevel(logging.CRITICAL)\n",
    "logging.getLogger(\"matplotlib\").setLevel(logging.CRITICAL)"
   ]
  },
  {
   "cell_type": "code",
   "execution_count": 2,
   "metadata": {
    "ExecuteTime": {
     "end_time": "2020-03-19T17:56:08.750515Z",
     "start_time": "2020-03-19T17:56:08.723317Z"
    }
   },
   "outputs": [
    {
     "data": {
      "text/html": [
       "<style>.container { width:85% !important; }</style>"
      ],
      "text/plain": [
       "<IPython.core.display.HTML object>"
      ]
     },
     "metadata": {},
     "output_type": "display_data"
    },
    {
     "data": {
      "text/html": [
       "<style>.output_html { display: block; margin-left: auto; margin-right: auto; }</style>"
      ],
      "text/plain": [
       "<IPython.core.display.HTML object>"
      ]
     },
     "metadata": {},
     "output_type": "display_data"
    }
   ],
   "source": [
    "from IPython.core.display import display, HTML\n",
    "display(HTML(\"<style>.container { width:85% !important; }</style>\"))\n",
    "display(HTML(\"<style>.output_html { display: block; margin-left: auto; margin-right: auto; }</style>\"))"
   ]
  },
  {
   "cell_type": "code",
   "execution_count": 3,
   "metadata": {
    "ExecuteTime": {
     "end_time": "2020-03-19T17:56:11.709807Z",
     "start_time": "2020-03-19T17:56:08.754491Z"
    }
   },
   "outputs": [],
   "source": [
    "import sys\n",
    "import numpy\n",
    "import scipy\n",
    "from matplotlib import pyplot\n",
    "\n",
    "if \"../src\" not in sys.path: sys.path.insert(0, \"../src\")\n",
    "from gc_simulation import StarClusterSimulation\n",
    "\n",
    "if \"/supaharris\" not in sys.path: sys.path.insert(0, \"/supaharris\")\n",
    "from utils import parsec2arcmin, arcmin2parsec"
   ]
  },
  {
   "cell_type": "code",
   "execution_count": null,
   "metadata": {
    "ExecuteTime": {
     "start_time": "2020-03-19T17:56:08.347Z"
    },
    "scrolled": false
   },
   "outputs": [
    {
     "name": "stdout",
     "output_type": "stream",
     "text": [
      " Model scaled to: G = 1, M = 1, rt = 1\n",
      "\n",
      " Model properties: \n",
      " ----------------- \n",
      " phi0 =  8.58; g = 1.00\n",
      " Converged = True\n",
      " M =  1.000e+00; U = -4.266e+00; K = 2.133e+00; Q = 0.5000;  2Kr/Kt = 1.000\n",
      " rv/rh = 1.069; rh/r0 = 11.103; rt/r0 = 101.292; ra/rh = 9006670.067\n",
      "limepy.limepy took 0.05 s\n",
      " sample r ...\n",
      " sample v ...\n",
      "   set-up segments for velocity cdf ...\n",
      "   compute cdf ...\n",
      "   (rejection) sampling of k^3/2 values ...\n",
      "   sample angles ...\n",
      " convert to cartesian coordinates ...\n",
      " done! \n",
      "       U: sample =  -4.2636e+00; model =  -4.2663e+00\n",
      "       K: sample =   2.1420e+00; model =   2.1332e+00\n",
      "       Q: sample =  -5.0239e-01; model =  -5.0000e-01\n",
      "  2Kr/Kt: sample =       0.9972; model =       1.0000\n",
      "limepy.sample took 10.22 s\n",
      "convert to AMUSE took 0.01 s\n",
      "limepy_to_amuse, pre-converter business\n",
      "  G:      1.0 length**3 / (mass * time**2)\n",
      "  com:    [1.36541711097e-18, -1.13502414932e-18, 5.29395592034e-19] length\n",
      "  comvel: [2.38524477947e-18, -1.53956708493e-17, 1.08691267792e-17] length * time**-1\n",
      "  Mtot:   1.0 mass\n",
      "  Ekin:   2.14193569558 length**2 * time**-2 * mass\n"
     ]
    }
   ],
   "source": [
    "Nstars = 50000\n",
    "Nbins = int(numpy.sqrt(Nstars))\n",
    "for gc_name in [\"NGC 104\", \"NGC 1261\"]:\n",
    "    sim = StarClusterSimulation(logger, gc_name)\n",
    "    \n",
    "    king_model, king_limepy_sampled, king_amuse_sampled, king_converter = \\\n",
    "        sim.sample_deBoer2019_bestfit_king(Nstars=Nstars, verbose=True)\n",
    "    \n",
    "    fig, ax = pyplot.subplots(1, 1, figsize=(12, 12))\n",
    "    sim.add_deBoer2019_to_fig(fig, show_King=True)\n",
    "    \n",
    "    # sim.add_deBoer2019_sampled_to_ax(ax, king_amuse_sampled, parm=\"rho\",\n",
    "    #     model=king_model, rmin=1e-4, rmax=1e3, Nbins=Nbins)\n",
    "    sim.add_deBoer2019_sampled_to_ax(ax, king_amuse_sampled, parm=\"Sigma\",\n",
    "        model=king_model, rmin=1e-4, rmax=1e3, Nbins=Nbins)\n",
    "    \n",
    "    ax.legend(fontsize=20)\n",
    "    pyplot.savefig(\"{0}{1}_sampled.png\".format(sim.outdir, sim.gc_name))\n",
    "    pyplot.show(fig)\n",
    "\n",
    "    \n",
    "    # Mass\n",
    "    fig, ax = pyplot.subplots(1, 1, figsize=(12, 12))\n",
    "    sim.add_deBoer2019_sampled_to_ax(ax, king_amuse_sampled, parm=\"mc\",\n",
    "        model=king_model, rmin=1e-4, rmax=1e3, Nbins=Nbins)\n",
    "    pyplot.show(fig)\n",
    "\n",
    "\n",
    "    # Velocity dispersion\n",
    "    fig, ax = pyplot.subplots(1, 1, figsize=(12, 12))\n",
    "    # v2, v2r, v2t : total, radial and tangential mean-square velocity\n",
    "    # ax.plot(sim.king_model.r, sim.king_model.v2, label=\"v2\")\n",
    "    # ax.plot(sim.king_model.r, sim.king_model.v2r, label=\"v2r\")\n",
    "    # ax.plot(sim.king_model.r, sim.king_model.v2t, label=\"v2t\")\n",
    "    # v2R, v2T : radial and tangential component of mean-square velocity on plane of the sky\n",
    "    ax.plot(king_model.R, king_model.v2p, label=\"v2p\")\n",
    "    ax.plot(king_model.R, king_model.v2R, label=\"v2R\")\n",
    "    ax.plot(king_model.R, king_model.v2T, label=\"v2T\")\n",
    "    # However, according to _project function\n",
    "    # R is the projected (2d) distance from the center, Sigma is the\n",
    "    # projected density, v2p is the line-of-sight velocity dispersion,\n",
    "    # v2R and v2T are the radial and tangential velocity dispersion\n",
    "    # components projected on the plane of the sky\n",
    "    # --> What is the difference between the 'mean-square velocity' and 'velocity dispersion'?\n",
    "    sim.add_H19_RVs_to_fig(fig)\n",
    "    pyplot.show()"
   ]
  },
  {
   "cell_type": "code",
   "execution_count": null,
   "metadata": {},
   "outputs": [],
   "source": []
  },
  {
   "cell_type": "code",
   "execution_count": null,
   "metadata": {},
   "outputs": [],
   "source": []
  }
 ],
 "metadata": {
  "kernelspec": {
   "display_name": "Python 3",
   "language": "python",
   "name": "python3"
  },
  "language_info": {
   "codemirror_mode": {
    "name": "ipython",
    "version": 3
   },
   "file_extension": ".py",
   "mimetype": "text/x-python",
   "name": "python",
   "nbconvert_exporter": "python",
   "pygments_lexer": "ipython3",
   "version": "3.8.2"
  },
  "toc": {
   "base_numbering": 1,
   "nav_menu": {},
   "number_sections": true,
   "sideBar": true,
   "skip_h1_title": false,
   "title_cell": "Table of Contents",
   "title_sidebar": "Contents",
   "toc_cell": false,
   "toc_position": {},
   "toc_section_display": true,
   "toc_window_display": false
  }
 },
 "nbformat": 4,
 "nbformat_minor": 4
}
