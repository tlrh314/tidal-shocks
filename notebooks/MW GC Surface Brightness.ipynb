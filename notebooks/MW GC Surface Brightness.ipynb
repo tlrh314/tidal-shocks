{
 "cells": [
  {
   "cell_type": "code",
   "execution_count": 1,
   "metadata": {},
   "outputs": [
    {
     "name": "stdout",
     "output_type": "stream",
     "text": [
      "The autoreload extension is already loaded. To reload it, use:\n",
      "  %reload_ext autoreload\n"
     ]
    }
   ],
   "source": [
    "if \"logger\" in globals() and  len(logger.handlers) >= 1:\n",
    "    # To suppress debug output from the logger defined in .ipython/profile_default/ipython_config.py\n",
    "    logger.handlers.pop()\n",
    "\n",
    "%load_ext autoreload\n",
    "%autoreload 2\n",
    "\n",
    "%matplotlib inline"
   ]
  },
  {
   "cell_type": "code",
   "execution_count": 7,
   "metadata": {},
   "outputs": [],
   "source": [
    "import sys\n",
    "import numpy\n",
    "import logging\n",
    "import numpy as np\n",
    "import astropy.units as u\n",
    "import astropy.constants as const\n",
    "from matplotlib import pyplot\n",
    "from matplotlib import pyplot as plt\n",
    "pyplot.style.use(\"tlrh\")\n",
    "\n",
    "# This repo: src folder /w Python scripts\n",
    "sys.path.append(\"../src\")\n",
    "# Other repos linked into the notebook container ;-)\n",
    "sys.path.append(\"../../supaharris\")\n",
    "import data.parse_hilker_2019\n",
    "sys.path.append(\"../../supaharris-client\")\n",
    "from supaharrisclient.client import SupaHarrisClient\n",
    "\n",
    "LOGGER = logging.getLogger()"
   ]
  },
  {
   "cell_type": "code",
   "execution_count": null,
   "metadata": {},
   "outputs": [],
   "source": [
    "from IPython.core.display import display, HTML\n",
    "display(HTML(\"<style>.container { width:95% !important; }</style>\"))\n",
    "display(HTML(\"<style>.output_html { display: block; margin-left: auto; margin-right: auto; }</style>\"))"
   ]
  }
 ],
 "metadata": {
  "kernelspec": {
   "display_name": "Python 3",
   "language": "python",
   "name": "python3"
  },
  "language_info": {
   "codemirror_mode": {
    "name": "ipython",
    "version": 3
   },
   "file_extension": ".py",
   "mimetype": "text/x-python",
   "name": "python",
   "nbconvert_exporter": "python",
   "pygments_lexer": "ipython3",
   "version": "3.7.4"
  }
 },
 "nbformat": 4,
 "nbformat_minor": 2
}
