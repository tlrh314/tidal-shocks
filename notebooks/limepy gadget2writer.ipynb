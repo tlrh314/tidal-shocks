{
 "cells": [
  {
   "cell_type": "code",
   "execution_count": 1,
   "metadata": {
    "ExecuteTime": {
     "end_time": "2020-06-05T10:38:30.853134Z",
     "start_time": "2020-06-05T10:38:30.509631Z"
    },
    "scrolled": false
   },
   "outputs": [
    {
     "name": "stdout",
     "output_type": "stream",
     "text": [
      "The autoreload extension is already loaded. To reload it, use:\n",
      "  %reload_ext autoreload\n"
     ]
    }
   ],
   "source": [
    "if \"logger\" in globals() and  len(logger.handlers) >= 1:\n",
    "    # To suppress debug output from the logger defined in .ipython/profile_default/ipython_config.py\n",
    "    logger.handlers.pop()\n",
    "\n",
    "%load_ext autoreload\n",
    "%autoreload 2\n",
    "\n",
    "%matplotlib inline"
   ]
  },
  {
   "cell_type": "code",
   "execution_count": 2,
   "metadata": {
    "ExecuteTime": {
     "end_time": "2020-06-05T10:38:31.045122Z",
     "start_time": "2020-06-05T10:38:30.855418Z"
    }
   },
   "outputs": [],
   "source": [
    "import sys\n",
    "import numpy\n",
    "\n",
    "if \"limepy\" not in sys.path:\n",
    "    sys.path.insert(0, \"/limepy\") \n",
    "import limepy \n",
    "\n",
    "logging.basicConfig(stream=sys.stdout, format=\"%(message)s\")\n",
    "logger = logging.getLogger(); logger.level = logging.INFO\n",
    "for h in logger.handlers: h.setLevel(logger.level)"
   ]
  },
  {
   "cell_type": "code",
   "execution_count": 3,
   "metadata": {
    "ExecuteTime": {
     "end_time": "2020-06-05T10:38:31.177588Z",
     "start_time": "2020-06-05T10:38:31.047787Z"
    },
    "scrolled": false
   },
   "outputs": [
    {
     "name": "stdout",
     "output_type": "stream",
     "text": [
      " No G provided, set to default: G = 0.004302\n",
      " Model scaled to: G = 0.004302, M = 100000.0, rh = 3\n",
      "\n",
      " Model properties: \n",
      " ----------------- \n",
      " phi0 =  5.00; g = 1.00\n",
      " Converged = True\n",
      " M =  1.000e+05; U = -5.835e+06; K = 2.917e+06; Q = 0.5000;  2Kr/Kt = 1.000\n",
      " rv/rh = 1.229; rh/r0 =  1.998; rt/r0 =  10.697; ra/rh = 50060809.844\n",
      " sample r ...\n",
      " sample v ...\n",
      "   set-up segments for velocity cdf ...\n",
      "   compute cdf ...\n",
      "   (rejection) sampling of k^3/2 values ...\n",
      "   sample angles ...\n",
      " convert to cartesian coordinates ...\n",
      " done! \n",
      "       U: sample =  -5.9760e+06; model =  -5.8345e+06\n",
      "       K: sample =   2.9552e+06; model =   2.9173e+06\n",
      "       Q: sample =  -4.9451e-01; model =  -5.0000e-01\n",
      "  2Kr/Kt: sample =       0.9038; model =       1.0000\n",
      "gadget2writer writing to ICs.dat\n",
      " .. HEAD\n",
      " .. POS \n",
      " .. VEL \n",
      " .. ID  \n",
      " .. MASS\n",
      "\n",
      "gadget2reader reading from ICs.dat\n",
      "  Eating block /w dtype: int8\n",
      "    length    : 8\n",
      "    end_length: 8\n",
      "    Block name: HEAD\n",
      "    Parsing block as header\n",
      "      blocklength    : 256\n",
      "      blocklength_end: 256\n",
      "\n",
      "      Header\n",
      "        Npart          : [  0   0   0   0 100   0]\n",
      "        Massarr        : [0. 0. 0. 0. 0. 0.]\n",
      "        Time           : 0.0\n",
      "        Redshift       : 0.0\n",
      "        FlagSfr        : 0\n",
      "        FlagFeedback   : 0\n",
      "        NumPart_Total  : [  0   0   0   0 100   0]\n",
      "        FlagCooling    : 0\n",
      "        NumFiles       : 1\n",
      "        BoxSize        : 0.0\n",
      "        Omega0         : 0.0\n",
      "        OmegaLambda    : 0.0\n",
      "        HubbleParam    : 0.0\n",
      "        FlagAge        : 0\n",
      "        FlagMetals     : 0\n",
      "        NallHW         : [0 0 0 0 0 0]\n",
      "        flag_entr_ics  : 0\n",
      "        use_double     : 0\n",
      "        bytesleft      : 56\n",
      "        la             : [0 0 0 0 0 0 0 0 0 0 0 0 0 0 0 0 0 0 0 0 0 0 0 0 0 0 0 0 0 0 0 0 0 0 0 0 0\n",
      " 0 0 0 0 0 0 0 0 0 0 0 0 0 0 0 0 0 0 0]\n",
      "\n",
      "  Eating block /w dtype: int8\n",
      "    length    : 8\n",
      "    end_length: 8\n",
      "    Block name: POS\n",
      "  Eating block /w dtype: float32\n",
      "    length    : 1200\n",
      "    end_length: 1200\n",
      "    block.shape: (100, 3)\n",
      "    block.dtype: float32\n",
      "  Eating block /w dtype: int8\n",
      "    length    : 8\n",
      "    end_length: 8\n",
      "    Block name: VEL\n",
      "  Eating block /w dtype: float32\n",
      "    length    : 1200\n",
      "    end_length: 1200\n",
      "    block.shape: (100, 3)\n",
      "    block.dtype: float32\n",
      "  Eating block /w dtype: int8\n",
      "    length    : 8\n",
      "    end_length: 8\n",
      "    Block name: ID\n",
      "  Eating block /w dtype: uint32\n",
      "    length    : 400\n",
      "    end_length: 400\n",
      "    block.shape: (100,)\n",
      "    block.dtype: uint32\n",
      "  Eating block /w dtype: int8\n",
      "    length    : 8\n",
      "    end_length: 8\n",
      "    Block name: MASS\n",
      "  Eating block /w dtype: float32\n",
      "    length    : 400\n",
      "    end_length: 400\n",
      "    block.shape: (100,)\n",
      "    block.dtype: float32\n",
      "  Eating block /w dtype: int8\n",
      "    length    : []\n"
     ]
    }
   ],
   "source": [
    "N = 100\n",
    "k = limepy.limepy(5, 1, M=1e5, rh=3, verbose=True)\n",
    "ic = limepy.sample(k, N=N, verbose=True)\n",
    "limepy.gadget2writer(ic, fname=\"ICs.dat\", verbose=True)\n",
    "ic2 = limepy.gadget2reader(\"ICs.dat\", verbose=True)\n",
    "\n",
    "assert ic2.data[\"pos\"].shape == (N, 3)\n",
    "numpy.testing.assert_almost_equal(ic2.data[\"pos\"][:,0], ic.x, decimal=6)\n",
    "numpy.testing.assert_almost_equal(ic2.data[\"pos\"][:,1], ic.y, decimal=6)\n",
    "numpy.testing.assert_almost_equal(ic2.data[\"pos\"][:,2], ic.z, decimal=6)\n",
    "\n",
    "assert ic2.data[\"vel\"].shape == (N, 3)\n",
    "numpy.testing.assert_almost_equal(ic2.data[\"vel\"][:,0], ic.vx, decimal=6)\n",
    "numpy.testing.assert_almost_equal(ic2.data[\"vel\"][:,1], ic.vy, decimal=6)\n",
    "numpy.testing.assert_almost_equal(ic2.data[\"vel\"][:,2], ic.vz, decimal=6)\n",
    "\n",
    "assert ic2.data[\"id\"].shape == (N,)\n",
    "\n",
    "assert ic2.data[\"mass\"].shape == (N,)\n",
    "numpy.testing.assert_almost_equal(ic2.data[\"mass\"], ic.m, decimal=6)\n"
   ]
  }
 ],
 "metadata": {
  "kernelspec": {
   "display_name": "Python 3",
   "language": "python",
   "name": "python3"
  },
  "language_info": {
   "codemirror_mode": {
    "name": "ipython",
    "version": 3
   },
   "file_extension": ".py",
   "mimetype": "text/x-python",
   "name": "python",
   "nbconvert_exporter": "python",
   "pygments_lexer": "ipython3",
   "version": "3.8.3"
  },
  "toc": {
   "base_numbering": 1,
   "nav_menu": {},
   "number_sections": true,
   "sideBar": true,
   "skip_h1_title": false,
   "title_cell": "Table of Contents",
   "title_sidebar": "Contents",
   "toc_cell": false,
   "toc_position": {},
   "toc_section_display": true,
   "toc_window_display": false
  }
 },
 "nbformat": 4,
 "nbformat_minor": 4
}
