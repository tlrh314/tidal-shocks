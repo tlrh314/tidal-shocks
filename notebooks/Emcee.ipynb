{
 "cells": [
  {
   "cell_type": "code",
   "execution_count": 1,
   "metadata": {
    "ExecuteTime": {
     "end_time": "2020-03-14T14:23:14.833116Z",
     "start_time": "2020-03-14T14:23:14.451968Z"
    }
   },
   "outputs": [
    {
     "name": "stdout",
     "output_type": "stream",
     "text": [
      "The autoreload extension is already loaded. To reload it, use:\n",
      "  %reload_ext autoreload\n"
     ]
    }
   ],
   "source": [
    "if \"logger\" in globals() and  len(logger.handlers) >= 1:\n",
    "    # To suppress debug output from the logger defined in .ipython/profile_default/ipython_config.py\n",
    "    logger.handlers.pop()\n",
    "\n",
    "%load_ext autoreload\n",
    "%autoreload 2\n",
    "\n",
    "%matplotlib inline\n",
    "logging.getLogger(\"matplotlib\").setLevel(logging.CRITICAL)"
   ]
  },
  {
   "cell_type": "code",
   "execution_count": 2,
   "metadata": {
    "ExecuteTime": {
     "end_time": "2020-03-14T14:23:14.855475Z",
     "start_time": "2020-03-14T14:23:14.835178Z"
    }
   },
   "outputs": [
    {
     "data": {
      "text/html": [
       "<style>.container { width:85% !important; }</style>"
      ],
      "text/plain": [
       "<IPython.core.display.HTML object>"
      ]
     },
     "metadata": {},
     "output_type": "display_data"
    },
    {
     "data": {
      "text/html": [
       "<style>.output_html { display: block; margin-left: auto; margin-right: auto; }</style>"
      ],
      "text/plain": [
       "<IPython.core.display.HTML object>"
      ]
     },
     "metadata": {},
     "output_type": "display_data"
    }
   ],
   "source": [
    "from IPython.core.display import display, HTML\n",
    "display(HTML(\"<style>.container { width:85% !important; }</style>\"))\n",
    "display(HTML(\"<style>.output_html { display: block; margin-left: auto; margin-right: auto; }</style>\"))"
   ]
  },
  {
   "cell_type": "code",
   "execution_count": 3,
   "metadata": {
    "ExecuteTime": {
     "end_time": "2020-03-14T14:23:14.995201Z",
     "start_time": "2020-03-14T14:23:14.858074Z"
    }
   },
   "outputs": [],
   "source": [
    "import sys\n",
    "import numpy\n",
    "import scipy\n",
    "from matplotlib import pyplot"
   ]
  },
  {
   "cell_type": "markdown",
   "metadata": {},
   "source": [
    "# Setup the data. Note that we'll fit to the profile above 2*BGlev"
   ]
  },
  {
   "cell_type": "code",
   "execution_count": 4,
   "metadata": {
    "ExecuteTime": {
     "end_time": "2020-03-14T14:23:20.013979Z",
     "start_time": "2020-03-14T14:23:14.997170Z"
    }
   },
   "outputs": [],
   "source": [
    "if \"../src\" not in sys.path: sys.path.insert(0, \"../src\")\n",
    "from gc_simulation import StarClusterSimulation\n",
    "\n",
    "if \"/supaharris\" not in sys.path: sys.path.insert(0, \"/supaharris\")\n",
    "from utils import parsec2arcmin\n",
    "\n",
    "sim = StarClusterSimulation(logger, \"NGC 104\")\n",
    "x = sim.deB19_stitched[\"rad\"]\n",
    "y = sim.deB19_stitched[\"density\"]\n",
    "yerr = sim.deB19_stitched[\"density_err\"]\n",
    "\n",
    "# Only include data points above 2 times the background level into the fit\n",
    "ikeep, = numpy.where(y > 2*sim.deB19_fit[\"BGlev\"])\n",
    "x, y, yerr = x[ikeep], y[ikeep], yerr[ikeep]"
   ]
  },
  {
   "cell_type": "markdown",
   "metadata": {},
   "source": [
    "# Setup the model, the log likelihood, log prior, and log probability"
   ]
  },
  {
   "cell_type": "markdown",
   "metadata": {},
   "source": [
    "We fit the King (1966) model to the data where the quoted uncertainties are underestimated by a constant fractional amount.\n",
    "\n",
    "$$ \\ln p(y \\,| \\, x, \\sigma, W_0, M, r_t, f) = -\\frac{1}{2} \\Sigma_n \\left[ \\frac{(y_n - \\text{King}[W_0, M, r_t] \\,)^2}{s_n^2} + \\ln (2 \\pi s_n^2) \\right]$$\n",
    "where\n",
    "$$\n",
    "s_n^2 = \\sigma_n^2 + f^2 \\cdot ( \\text{King}[W_0, M, r_t] \\, )^2\n",
    "$$\n",
    "\n",
    "Blabla\n",
    "\n",
    "$$ \n",
    "p (W_0, M, r_t, f\\,|\\,x,y,\\sigma) \\propto p(W_0, M, r_t, f)\\,p(y\\,|\\,x,\\sigma, W_0, M, r_t, f) \\quad .\n",
    "$$\n",
    "\n",
    "The likelihood function\n",
    "$$ p(y|x, \\sigma , W_0, M, r_t, f) $$\n",
    "\n",
    "so the missing component is the \"prior\" function\n",
    "$$ p(W_0, M, r_t, f) $$\n",
    "\n",
    "\n",
    "In this example, we’ll use uniform (so-called \"uninformative\") priors on $W_0, M, r_t$ and the logarithm of $f$. For example, we'll use the following conservative prior on $m$\n",
    "\n",
    "\\begin{split}p(W_0) = \\left \\{\\begin{array}{ll}\n",
    "        ? \\,, & \\mbox{if}\\, 0 < W_0 < 14 \\\\\n",
    "        0 \\,, & \\mbox{otherwise}\n",
    "    \\end{array}\n",
    "    \\right .\\end{split}\n",
    "    \n",
    "\\begin{split}p(M) = \\left \\{\\begin{array}{ll}\n",
    "        ? \\,, & \\mbox{if}\\, 2 < \\log_{10}(W_0) < 6 \\\\\n",
    "        0 \\,, & \\mbox{otherwise}\n",
    "    \\end{array}\n",
    "    \\right .\\end{split}\n",
    "    \n",
    "\\begin{split}p(r_t) = \\left \\{\\begin{array}{ll}\n",
    "        ? \\,, & \\mbox{if}\\, 1 < r_t < 300 \\\\\n",
    "        0 \\,, & \\mbox{otherwise}\n",
    "    \\end{array}\n",
    "    \\right .\\end{split}\n",
    "\n",
    "In code, the log-prior is (up to a constant):\n",
    "\n",
    "\n",
    "he interested reader should check out [Hogg, Bovy & Lang (2010)](https://arxiv.org/abs/1008.4686) for a much more complete discussion of how to fit a line to data in The Real World™ and why MCMC might come in handy."
   ]
  },
  {
   "cell_type": "markdown",
   "metadata": {},
   "source": [
    "# First fit by minimize -log_likelihood"
   ]
  },
  {
   "cell_type": "code",
   "execution_count": 5,
   "metadata": {
    "ExecuteTime": {
     "end_time": "2020-03-14T14:23:20.066911Z",
     "start_time": "2020-03-14T14:23:20.016058Z"
    }
   },
   "outputs": [],
   "source": [
    "if \"/limepy\" not in sys.path: sys.path.insert(0, \"/limepy\")\n",
    "import limepy   # using tlrh314/limepy fork linked into container\n",
    "\n",
    "\n",
    "def king(x, W0, M, rt, verbose=False):\n",
    "    if verbose:\n",
    "        print(\"King, W0={0:.1f}, M={1:.1e}, rt={2:.1f}\".format(W0, M, rt))\n",
    "\n",
    "    # Set up the King (1966) model /w Limepy\n",
    "    king = limepy.limepy(W0, M=M, rt=rt, g=1, project=True, verbose=False)\n",
    "\n",
    "    # Interpolate the projected surface density profile to allow for arbitrary radii\n",
    "    interp1d = scipy.interpolate.interp1d(king.R, king.Sigma)\n",
    "\n",
    "    # However, interp1d needs to stay within bounds. The Limepy profile is\n",
    "    # only sampled up to the truncation radius rt, and cannot be interpolated\n",
    "    # beyond. The surface brightness profile, by construction, is zero at the\n",
    "    # truncation radius. So we set the counts to ZERO equal to small value\n",
    "    ZERO = 1e-9\n",
    "    counts = numpy.array([interp1d(xi) if xi < king.rt else ZERO for xi in x])\n",
    "\n",
    "    return counts\n",
    "\n",
    "\n",
    "def log_likelihood(theta, x, y, yerr):\n",
    "    W0, M, rt, log_f = theta\n",
    "    model = king(x, W0, M, rt)\n",
    "    sigma2 = yerr ** 2 + model ** 2 * numpy.exp(2 * log_f)\n",
    "    return -0.5 * numpy.sum((y - model) ** 2 / sigma2 + numpy.log(sigma2))\n",
    "\n",
    "\n",
    "def log_prior(theta):\n",
    "    W0, M, rt, log_f = theta\n",
    "    if 0 < W0 < 14 and 1e2 < M < 1e6 and 1 < rt < 300 and -10.0 < log_f < 1.0:\n",
    "        return 0.0\n",
    "    return -numpy.inf\n",
    "\n",
    "\n",
    "def log_probability(theta, x, y, yerr):\n",
    "    lp = log_prior(theta)\n",
    "    if not numpy.isfinite(lp):\n",
    "        return -numpy.inf\n",
    "    return lp + log_likelihood(theta, x, y, yerr)"
   ]
  },
  {
   "cell_type": "code",
   "execution_count": 6,
   "metadata": {
    "ExecuteTime": {
     "end_time": "2020-03-14T14:24:46.455425Z",
     "start_time": "2020-03-14T14:23:20.074411Z"
    }
   },
   "outputs": [
    {
     "name": "stdout",
     "output_type": "stream",
     "text": [
      "Maximum likelihood estimates:\n",
      "W0 = 8.773\n",
      "M = 107803.352\n",
      "rt = 50.584\n",
      "f = 0.292\n"
     ]
    }
   ],
   "source": [
    "from scipy.optimize import minimize\n",
    "\n",
    "W0_deB19 = sim.deB19_fit[\"W_king\"]\n",
    "M_deB19 = sim.deB19_fit[\"M_king\"]\n",
    "rt_deB19 = parsec2arcmin(sim.deB19_fit[\"rt_king\"], sim.distance_kpc)\n",
    "numpy.random.seed(42)\n",
    "nll = lambda *args: -log_likelihood(*args)\n",
    "initial = [W0_deB19, M_deB19, rt_deB19, 0.0]\n",
    "soln = minimize(nll, initial, args=(x, y, yerr))\n",
    "W0_ml, M_ml, rt_ml, log_f_ml = soln.x\n",
    "\n",
    "print(\"Maximum likelihood estimates:\")\n",
    "print(\"W0 = {0:.3f}\".format(W0_ml))\n",
    "print(\"M = {0:.3f}\".format(M_ml))\n",
    "print(\"rt = {0:.3f}\".format(rt_ml))\n",
    "print(\"f = {0:.3f}\".format(numpy.exp(log_f_ml)))"
   ]
  },
  {
   "cell_type": "code",
   "execution_count": 7,
   "metadata": {
    "ExecuteTime": {
     "end_time": "2020-03-14T14:24:48.121573Z",
     "start_time": "2020-03-14T14:24:46.459742Z"
    }
   },
   "outputs": [
    {
     "name": "stdout",
     "output_type": "stream",
     "text": [
      "King, W0=8.6, M=1.1e+05, rt=40.1\n",
      "King, W0=8.8, M=1.1e+05, rt=50.6\n"
     ]
    },
    {
     "data": {
      "image/png": "[encoded data removed]",
      "text/plain": [
       "<Figure size 864x648 with 1 Axes>"
      ]
     },
     "metadata": {},
     "output_type": "display_data"
    }
   ],
   "source": [
    "fig, ax = pyplot.subplots(1, 1, figsize=(12, 9))\n",
    "\n",
    "sim.add_deBoer2019_to_fig(fig)\n",
    "\n",
    "x0 = numpy.logspace(-3, 3, 256)\n",
    "ax.plot(x0, king(x0, *initial[0:3], verbose=True), c=\"g\", lw=2, label=\"initial (deB19)\")\n",
    "ax.plot(x0, king(x0, W0_ml, M_ml, rt_ml, verbose=True), c=\"k\", lw=2, label=\"ML\")\n",
    "\n",
    "ax.legend(fontsize=20)\n",
    "pyplot.show()"
   ]
  },
  {
   "cell_type": "markdown",
   "metadata": {},
   "source": [
    "# Now fit using emcee"
   ]
  },
  {
   "cell_type": "code",
   "execution_count": null,
   "metadata": {
    "ExecuteTime": {
     "start_time": "2020-03-14T14:23:14.494Z"
    }
   },
   "outputs": [
    {
     "name": "stderr",
     "output_type": "stream",
     "text": [
      " 60%|██████    | 3007/5000 [2:44:36<1:53:00,  3.40s/it]"
     ]
    }
   ],
   "source": [
    "import emcee\n",
    "\n",
    "pos = soln.x + 1e-4 * numpy.random.randn(32, 4)\n",
    "nwalkers, ndim = pos.shape\n",
    "\n",
    "sampler = emcee.EnsembleSampler(nwalkers, ndim, log_probability, args=(x, y, yerr))\n",
    "sampler.run_mcmc(pos, 5000, progress=True);"
   ]
  },
  {
   "cell_type": "markdown",
   "metadata": {},
   "source": [
    "# Inspect the chains"
   ]
  },
  {
   "cell_type": "code",
   "execution_count": null,
   "metadata": {
    "ExecuteTime": {
     "start_time": "2020-03-14T14:23:14.500Z"
    }
   },
   "outputs": [],
   "source": [
    "fig, axes = pyplot.subplots(4, figsize=(10, 7), sharex=True)\n",
    "samples = sampler.get_chain()\n",
    "labels = [\"W_0\", \"M\", \"r_t\", \"log(f)\"]\n",
    "for i in range(ndim):\n",
    "    ax = axes[i]\n",
    "    ax.plot(samples[:, :, i], \"k\", alpha=0.3)\n",
    "    ax.set_xlim(0, len(samples))\n",
    "    ax.set_ylabel(labels[i])\n",
    "    ax.yaxis.set_label_coords(-0.1, 0.5)\n",
    "\n",
    "axes[-1].set_xlabel(\"step number\");"
   ]
  },
  {
   "cell_type": "code",
   "execution_count": null,
   "metadata": {
    "ExecuteTime": {
     "start_time": "2020-03-14T14:23:14.507Z"
    }
   },
   "outputs": [],
   "source": [
    "from emcee.autocorr import AutocorrError\n",
    "\n",
    "try:\n",
    "    tau = sampler.get_autocorr_time()\n",
    "except AutocorrError as e:\n",
    "    print(e)\n",
    "    tau = numpy.array([2.41562146, 2.65301037, 2.69963032, 2.7499491])\n",
    "print(tau)"
   ]
  },
  {
   "cell_type": "markdown",
   "metadata": {},
   "source": [
    "# Inspect the MLEs "
   ]
  },
  {
   "cell_type": "code",
   "execution_count": null,
   "metadata": {
    "ExecuteTime": {
     "start_time": "2020-03-14T14:23:14.516Z"
    }
   },
   "outputs": [],
   "source": [
    "flat_samples = sampler.get_chain(discard=10, thin=int(numpy.ceil(numpy.mean(tau)/2)), flat=True)\n",
    "print(flat_samples.shape)"
   ]
  },
  {
   "cell_type": "code",
   "execution_count": null,
   "metadata": {
    "ExecuteTime": {
     "start_time": "2020-03-14T14:23:14.522Z"
    }
   },
   "outputs": [],
   "source": [
    "%matplotlib inline\n",
    "import corner\n",
    "\n",
    "# Use the best-fit MLEs from deBoer+ 2019 as 'truths', and don't care about this f thingy,\n",
    "# just use the whatever best-fit log_f_ml\n",
    "fig = corner.corner(\n",
    "    flat_samples, labels=labels, truths=[W0_deB19, M_deB19, rt_deB19, log_f_ml], quantiles=[0.16, 0.50, 0.84], show_titles=True\n",
    ");"
   ]
  },
  {
   "cell_type": "code",
   "execution_count": null,
   "metadata": {
    "ExecuteTime": {
     "start_time": "2020-03-14T14:23:14.529Z"
    }
   },
   "outputs": [],
   "source": [
    "pyplot.figure(figsize=(12, 9))\n",
    "\n",
    "inds = numpy.random.randint(len(flat_samples), size=100)\n",
    "for ind in inds:\n",
    "    sample = flat_samples[ind]\n",
    "    pyplot.plot(x0, king(x0, *sample[:3]), \"C1\", alpha=0.1)\n",
    "# sim.add_deBoer2019_to_fig(fig)\n",
    "pyplot.errorbar(x, y, yerr=yerr, fmt=\".k\", capsize=0)\n",
    "\n",
    "pyplot.plot(x0, king(x0, *initial[0:3], verbose=True), c=\"g\", lw=2, label=\"initial (deB19)\")\n",
    "pyplot.plot(x0, king(x0, W0_ml, M_ml, rt_ml, verbose=True), c=\"k\", lw=2, label=\"ML\")\n",
    "\n",
    "pyplot.ylim(0.1*y.min(), 2*y.max())\n",
    "\n",
    "pyplot.legend(fontsize=14)\n",
    "pyplot.xscale(\"log\")\n",
    "pyplot.yscale(\"log\")\n",
    "pyplot.show()"
   ]
  },
  {
   "cell_type": "code",
   "execution_count": null,
   "metadata": {
    "ExecuteTime": {
     "start_time": "2020-03-14T14:23:14.540Z"
    }
   },
   "outputs": [],
   "source": [
    "from IPython.display import display, Math\n",
    "\n",
    "for i in range(ndim):\n",
    "    mcmc = numpy.percentile(flat_samples[:, i], [16, 50, 84])\n",
    "    q = numpy.diff(mcmc)\n",
    "    txt = \"\\mathrm{{{3}}} = {0:.3f}_{{-{1:.3f}}}^{{{2:.3f}}}\"\n",
    "    txt = txt.format(mcmc[1], q[0], q[1], labels[i])\n",
    "    display(Math(txt))"
   ]
  },
  {
   "cell_type": "code",
   "execution_count": null,
   "metadata": {},
   "outputs": [],
   "source": []
  }
 ],
 "metadata": {
  "kernelspec": {
   "display_name": "Python 3",
   "language": "python",
   "name": "python3"
  },
  "language_info": {
   "codemirror_mode": {
    "name": "ipython",
    "version": 3
   },
   "file_extension": ".py",
   "mimetype": "text/x-python",
   "name": "python",
   "nbconvert_exporter": "python",
   "pygments_lexer": "ipython3",
   "version": "3.8.2"
  },
  "toc": {
   "base_numbering": 1,
   "nav_menu": {},
   "number_sections": true,
   "sideBar": true,
   "skip_h1_title": false,
   "title_cell": "Table of Contents",
   "title_sidebar": "Contents",
   "toc_cell": false,
   "toc_position": {},
   "toc_section_display": true,
   "toc_window_display": false
  }
 },
 "nbformat": 4,
 "nbformat_minor": 4
}
