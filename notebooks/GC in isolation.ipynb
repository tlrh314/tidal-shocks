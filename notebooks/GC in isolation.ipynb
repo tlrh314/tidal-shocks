{
 "cells": [
  {
   "cell_type": "code",
   "execution_count": null,
   "metadata": {
    "ExecuteTime": {
     "end_time": "2020-03-19T17:26:39.475846Z",
     "start_time": "2020-03-19T17:26:39.088782Z"
    }
   },
   "outputs": [],
   "source": [
    "if \"logger\" in globals() and  len(logger.handlers) >= 1:\n",
    "    # To suppress debug output from the logger defined in .ipython/profile_default/ipython_config.py\n",
    "    logger.handlers.pop()\n",
    "\n",
    "%load_ext autoreload\n",
    "%autoreload 2\n",
    "\n",
    "%matplotlib inline\n",
    "\n",
    "import platform\n",
    "BASEDIR = \"/u/timoh/phd\" if \"freya\" in platform.node() else \"\""
   ]
  },
  {
   "cell_type": "code",
   "execution_count": null,
   "metadata": {
    "ExecuteTime": {
     "end_time": "2020-03-19T17:26:39.512652Z",
     "start_time": "2020-03-19T17:26:39.483147Z"
    }
   },
   "outputs": [],
   "source": [
    "from IPython.core.display import display, HTML\n",
    "display(HTML(\"<style>.container { width:85% !important; }</style>\"))\n",
    "display(HTML(\"<style>.output_html { display: block; margin-left: auto; margin-right: auto; }</style>\"))"
   ]
  },
  {
   "cell_type": "code",
   "execution_count": null,
   "metadata": {
    "ExecuteTime": {
     "end_time": "2020-03-19T17:26:42.339281Z",
     "start_time": "2020-03-19T17:26:39.516296Z"
    }
   },
   "outputs": [],
   "source": [
    "import os\n",
    "import sys\n",
    "import numpy\n",
    "import scipy\n",
    "from matplotlib import pyplot\n",
    "pyplot.style.use(\"tlrh\")\n",
    "\n",
    "if \"/tidalshocks/src\" not in sys.path:\n",
    "    sys.path.insert(0, \"{}/tidalshocks/src\".format(BASEDIR))\n",
    "from mw_gc_observation import MwGcObservation\n",
    "\n",
    "if \"/supaharris\" not in sys.path: \n",
    "    sys.path.insert(0, \"{}/supaharris\".format(BASEDIR))\n",
    "from utils import parsec2arcmin\n",
    "\n",
    "import logging\n",
    "logging.getLogger(\"keyring\").setLevel(logging.CRITICAL)\n",
    "logging.getLogger(\"matplotlib\").setLevel(logging.CRITICAL)\n",
    "logging.basicConfig(stream=sys.stdout, format=\"%(message)s\")\n",
    "logger = logging.getLogger(); logger.level = logging.INFO\n",
    "for h in logger.handlers: h.setLevel(logger.level)\n",
    "    \n",
    "from amuse.units import units\n",
    "from amuse.units import constants\n",
    "from amuse.io import read_set_from_file\n",
    "\n",
    "from amuse_wrapper import get_particle_properties\n",
    "from test_stability_in_isolation import plot_diagnostics\n",
    "from test_stability_in_isolation import analyse_snapshot\n",
    "from test_stability_in_isolation import analyse_isolation"
   ]
  },
  {
   "cell_type": "code",
   "execution_count": null,
   "metadata": {
    "ExecuteTime": {
     "end_time": "2020-03-19T17:55:48.915597Z",
     "start_time": "2020-03-19T17:53:04.838961Z"
    },
    "scrolled": false
   },
   "outputs": [],
   "source": [
    "Nstars = 5000\n",
    "for gc_name in [\"NGC 104\"]:\n",
    "    obs = MwGcObservation(logger, gc_name)\n",
    "    limepy_model, limepy_sampled, amuse_sampled, converter = \\\n",
    "        obs.sample_deBoer2019_bestfit_king(Nstars=Nstars, verbose=True)\n",
    "\n",
    "    fig = plot_diagnostics(obs, limepy_model, amuse_sampled, model_name=\"king\", Tsnap=None, \n",
    "            softening=0.1, rmin=1e-3, rmax=1e3, Nbins=None, fig=None)\n",
    "    pyplot.show()"
   ]
  },
  {
   "cell_type": "markdown",
   "metadata": {},
   "source": [
    "# Analyse a single snapshot "
   ]
  },
  {
   "cell_type": "code",
   "execution_count": null,
   "metadata": {
    "scrolled": false
   },
   "outputs": [],
   "source": [
    "%matplotlib inline\n",
    "pyplot.style.use(\"tlrh\")\n",
    "\n",
    "obs = MwGcObservation(logger, \"NGC 104\")\n",
    "# analyse_isolation(obs, \"king\", 1000, 0.1, 1337)\n",
    "\n",
    "model_name = \"king\"\n",
    "Nstars = 1000\n",
    "softening = 0.1\n",
    "seed = 1337\n",
    "folder = \"{}_{}_isolation_{}_{}_{}\".format(obs.gc_slug, model_name, Nstars, softening, seed)\n",
    "snap_base = \"{}{}/{}_{}_isolation_{}_{}_{}_*.h5\".format(obs.outdir, folder,\n",
    "    obs.gc_slug, model_name, Nstars, softening, seed)\n",
    "snapshots = sorted(glob.glob(snap_base), key=lambda s:\n",
    "    [ int(c) for c in re.split('(\\d+)', s) if c.isdigit()]\n",
    ")\n",
    "Nsnaps = len(snapshots)\n",
    "print(\"\\nFound {0} snapshots\".format(Nsnaps))\n",
    "\n",
    "args = []\n",
    "kwargs = {\n",
    "    \"obs\": obs,\n",
    "    \"model_name\": model_name,\n",
    "    \"limepy_model\": limepy_model,\n",
    "    \"isolation\": True,\n",
    "    \"softening\": softening,\n",
    "    \"seed\": seed,\n",
    "}\n",
    "\n",
    "for i_fname_tuple in enumerate(snapshots):\n",
    "    analyse_snapshot(i_fname_tuple, *args, **kwargs)\n",
    "    break"
   ]
  },
  {
   "cell_type": "markdown",
   "metadata": {},
   "source": [
    "# Analyse all snapshots for a particular simulation "
   ]
  },
  {
   "cell_type": "code",
   "execution_count": null,
   "metadata": {},
   "outputs": [],
   "source": [
    "obs = MwGcObservation(logger, \"NGC 104\")\n",
    "# analyse_isolation(obs, \"king\", 1000, 0.1, 1337)"
   ]
  }
 ],
 "metadata": {
  "kernelspec": {
   "display_name": "Python 3",
   "language": "python",
   "name": "python3"
  },
  "language_info": {
   "codemirror_mode": {
    "name": "ipython",
    "version": 3
   },
   "file_extension": ".py",
   "mimetype": "text/x-python",
   "name": "python",
   "nbconvert_exporter": "python",
   "pygments_lexer": "ipython3",
   "version": "3.8.2"
  },
  "toc": {
   "base_numbering": 1,
   "nav_menu": {},
   "number_sections": true,
   "sideBar": true,
   "skip_h1_title": false,
   "title_cell": "Table of Contents",
   "title_sidebar": "Contents",
   "toc_cell": false,
   "toc_position": {},
   "toc_section_display": true,
   "toc_window_display": false
  }
 },
 "nbformat": 4,
 "nbformat_minor": 4
}
